{
  "cells": [
    {
      "cell_type": "markdown",
      "metadata": {
        "id": "view-in-github",
        "colab_type": "text"
      },
      "source": [
        "<a href=\"https://colab.research.google.com/github/gkokhabi/matchmakingalgo/blob/main/NewMJIQ.ipynb\" target=\"_parent\"><img src=\"https://colab.research.google.com/assets/colab-badge.svg\" alt=\"Open In Colab\"/></a>"
      ]
    },
    {
      "cell_type": "code",
      "execution_count": null,
      "metadata": {
        "id": "IelLK3ZD5EN1"
      },
      "outputs": [],
      "source": [
        ""
      ]
    },
    {
      "cell_type": "code",
      "execution_count": null,
      "metadata": {
        "id": "7c9Kb7GpvhSS"
      },
      "outputs": [],
      "source": [
        "import csv\n",
        "import math"
      ]
    },
    {
      "cell_type": "code",
      "execution_count": null,
      "metadata": {
        "id": "OnfB_tjaeC0O"
      },
      "outputs": [],
      "source": [
        "###Load in CSV of dating answers\n",
        "with open('Matches04102022.csv', newline='',encoding='latin-1') as f:\n",
        "  datingpool = list(csv.reader(f))\n",
        "    \n",
        "\n",
        "datingpool=datingpool[1:7000]"
      ]
    },
    {
      "cell_type": "code",
      "execution_count": null,
      "metadata": {
        "id": "-noEOf5tf4We"
      },
      "outputs": [],
      "source": [
        "###Global variables mostly indicating the column number in the spreadsheet/list for each person\n",
        "\n",
        "ID=0\n",
        "EMAIL=1\n",
        "NAME=2\n",
        "AGE=3\n",
        "INSTAGRAM=4\n",
        "FACEBOOK=5\n",
        "CONTACTPREF=6\n",
        "GENDER=7\n",
        "TRANSGENDER=8\n",
        "INTEREST=9\n",
        "HEIGHT=10\n",
        "LATITUDE=11\n",
        "LONGITUDE=12\n",
        "IMPODIST=13\n",
        "MAXDIST=14\n",
        "LANGUAGE=15\n",
        "LOOKINGFOR=16\n",
        "COMPLETEDEDU=17\n",
        "INTENTIONEDU=18\n",
        "ALIYAH=19\n",
        "RELIGION=20\n",
        "DIET=21\n",
        "SHABBAT=22\n",
        "ZIONIST=23\n",
        "MOVIEGENRES=24\n",
        "MUSICGENRES=25\n",
        "HOBBIES=26\n",
        "SPORTS=27\n",
        "SMOKING=28\n",
        "WEED=29\n",
        "ALCOHOL=30\n",
        "PETS=31\n",
        "SAVING=32\n",
        "PARTIES=33\n",
        "VACATION=34\n",
        "FUTUREWORRY=35\n",
        "GOFLOW=36\n",
        "FRIENDS=37\n",
        "EXERCISE=38\n",
        "POLITICS=39\n",
        "PROCRASTINATE=40\n",
        "BIGPIC=41\n",
        "HOUSELOCATION=42\n",
        "COMMUNICATION=43\n",
        "KIDS=44\n",
        "ADOPT=45\n",
        "HASKIDS=46\n",
        "NEWFRIENDS=47\n",
        "MATCHWITHKIDS=48\n",
        "SELFCENTER=49\n",
        "FIRSTDATE=50\n",
        "COOKING=51\n",
        "ETHNICITY=52\n",
        "HEIGHTPREF=53\n",
        "RELIGION_FLEXIBILITY=54\n",
        "YOUNGEST=55\n",
        "OLDEST=56\n",
        "HOUSESKILLFLEX=57\n",
        "INTERESTETHNICITY=58\n",
        "CONVERT=59\n",
        "POLITICALFLEXIBILITY=60\n",
        "IDEALMATCH=61\n",
        "KIDSFLEXIBILITY=62\n",
        "NONJEW=63\n",
        "PREVIDS=64\n",
        "prevMatches=65\n",
        "LASTNAME=66\n",
        "LOCATION=67\n",
        "BLURB=68\n",
        "ONLYCLOSE=69\n",
        "ULTRAFLEXIBLE=1\n",
        "SUPERFLEXIBLE=2\n",
        "FLEXIBLE=3"
      ]
    },
    {
      "cell_type": "code",
      "execution_count": null,
      "metadata": {
        "id": "jympjx0RcK9m"
      },
      "outputs": [],
      "source": [
        "def convertHeightToTuple(person):\n",
        "    heightRange=person[HEIGHTPREF].split(\",\")\n",
        "    if heightRange[0]==\"4 ft 6 in and shorter (Shorter than 140 cm)\":\n",
        "      minHeight=54\n",
        "    elif heightRange[0]==\"4 ft 7 in to 4 ft 9 in (140 to 146 cm)\":\n",
        "      minHeight=57\n",
        "    elif heightRange[0]==\"4 ft 10 in to 4 ft 11 in (147 to 151 cm)\":\n",
        "      minHeight=59\n",
        "    elif heightRange[0]==\"5 ft to 5 ft 2 in (152 to 157 cm)\":\n",
        "      minHeight=62\n",
        "    elif heightRange[0]==\"5 ft 3 in to 5 ft 5 in (158 to 165 cm)\":\n",
        "      minHeight=65\n",
        "    elif heightRange[0]==\"5 ft 6 in to 5 ft 8 in (165 to 172 cm)\":\n",
        "      minHeight=68\n",
        "    elif heightRange[0]==\"5 ft 9 in to 5 ft 11 in (173 to 182 cm)\":\n",
        "      minHeight=71\n",
        "    elif heightRange[0]==\"6 ft to 6 ft 2 in (183 to 188 cm)\":\n",
        "      minHeight=74\n",
        "    elif heightRange[0]==\"6 ft 3 in to 6 ft 5 in  (189 to 196 cm)\":\n",
        "      minHeight=77\n",
        "    else:\n",
        "      minHeight=78\n",
        "    if heightRange[1]==\" 4 ft 6 in and shorter (Shorter than 140 cm)\":\n",
        "      maxHeight=54\n",
        "    elif heightRange[1]==\" 4 ft 7 in to 4 ft 9 in (140 to 146 cm)\":\n",
        "      maxHeight=57\n",
        "    elif heightRange[1]==\" 4 ft 10 in to 4 ft 11 in (147 to 151 cm)\":\n",
        "      maxHeight=59\n",
        "    elif heightRange[1]==\" 5 ft to 5 ft 2 in (152 to 157 cm)\":\n",
        "      maxHeight=62\n",
        "    elif heightRange[1]==\" 5 ft 3 in to 5 ft 5 in (158 to 165 cm)\":\n",
        "      maxHeight=65\n",
        "    elif heightRange[1]==\" 5 ft 6 in to 5 ft 8 in (165 to 172 cm)\":\n",
        "      maxHeight=68\n",
        "    elif heightRange[1]==\" 5 ft 9 in to 5 ft 11 in (173 to 182 cm)\":\n",
        "      maxHeight=71\n",
        "    elif heightRange[1]==\" 6 ft to 6 ft 2 in (183 to 188 cm)\":\n",
        "      maxHeight=74\n",
        "    elif heightRange[1]==\" 6 ft 3 in to 6 ft 5 in  (189 to 196 cm)\":\n",
        "      maxHeight=77\n",
        "    else:\n",
        "      maxHeight=78\n",
        "    heightPrefTuple=(minHeight, maxHeight)\n",
        "    return heightPrefTuple\n",
        "\n",
        "def genderInterestList(person):\n",
        "    listOfInterest=person[INTEREST].split(\", \")\n",
        "    listCoded=[]\n",
        "    for item in listOfInterest:\n",
        "      if item==\"Men\":\n",
        "        listCoded.append(1)\n",
        "      if item==\"Women\":\n",
        "        listCoded.append(0)\n",
        "      if item==\"Transgender Men\":\n",
        "        listCoded.append(3)\n",
        "      if item==\"Transgender Women\":\n",
        "        listCoded.append(4)\n",
        "      if item==\"Non binary and other gender identities\":\n",
        "        listCoded.append(2)\n",
        "    return listCoded\n",
        "\n",
        "def genderMatch(person1,person2):\n",
        "  if person1[GENDER] in person2[INTEREST] and person2[GENDER] in person1[INTEREST]:\n",
        "    return True\n",
        "  else:\n",
        "    return False\n",
        "\n",
        "def heightMatch(person1,person2):\n",
        "  if (person1[HEIGHT]>= person2[HEIGHTPREF][0] and person1[HEIGHT]<= person2[HEIGHTPREF][1] and \\\n",
        "  person2[HEIGHT]>= person1[HEIGHTPREF][0] and person2[HEIGHT]<= person1[HEIGHTPREF][1]) or person1[HEIGHT]==0 or person2[HEIGHT]==0:\n",
        "      return True\n",
        "  return False\n"
      ]
    },
    {
      "cell_type": "code",
      "execution_count": null,
      "metadata": {
        "id": "PXE5EvYGtJf8"
      },
      "outputs": [],
      "source": [
        "  ###Turn important numbers into Floats with 4 decimal places\n",
        "\n",
        "def floatdatingpool(dating_pool):\n",
        " for person in dating_pool: \n",
        "      person[CONTACTPREF]=person[CONTACTPREF].split(', ')\n",
        "      person[DIET]=person[DIET].split(', ')\n",
        "      person[ID]=round(float(person[ID]),4)\n",
        "      person[SHABBAT]=round(float(person[SHABBAT]),4)\n",
        "      person[AGE]=round(float(person[AGE]),4)\n",
        "      person[LOOKINGFOR]=round(float(person[LOOKINGFOR]),4)\n",
        "      person[GENDER]=round(float(person[GENDER]),4)\n",
        "      person[ZIONIST]=round(float(person[ZIONIST]),4)\n",
        "      person[PARTIES]=round(float(person[PARTIES]),4)\n",
        "      person[FUTUREWORRY]=round(float(person[FUTUREWORRY]),4)\n",
        "      person[EXERCISE]=round(float(person[EXERCISE]),4)\n",
        "      person[PROCRASTINATE]=round(float(person[PROCRASTINATE]),4)\n",
        "      person[BIGPIC]=round(float(person[BIGPIC]),4)\n",
        "      person[COMMUNICATION]=round(float(person[COMMUNICATION]),4)\n",
        "      person[ADOPT]=round(float(person[ADOPT]),4)\n",
        "      person[HASKIDS]=round(float(person[HASKIDS]),4)\n",
        "      person[NEWFRIENDS]=round(float(person[NEWFRIENDS]),4)\n",
        "      person[MATCHWITHKIDS]=round(float(person[MATCHWITHKIDS]),4)\n",
        "      person[SELFCENTER]=round(float(person[SELFCENTER]),4)\n",
        "      person[INTEREST]=genderInterestList(person)\n",
        "      person[SPORTS]=round(float(person[SPORTS]),4)\n",
        "      person[PETS]=round(float(person[PETS]),4)\n",
        "      person[WEED]=round(float(person[WEED]),4)\n",
        "      person[SMOKING]=round(float(person[SMOKING]),4)\n",
        "      person[ALCOHOL]=round(float(person[ALCOHOL]),4)\n",
        "      person[GOFLOW]=round(float(person[GOFLOW]),4)\n",
        "      person[COMPLETEDEDU]=round(float(person[COMPLETEDEDU]),4)\n",
        "      person[INTENTIONEDU]=round(float(person[INTENTIONEDU]),4)\n",
        "      person[HOUSESKILLFLEX]=round(float(person[HOUSESKILLFLEX]),4)\n",
        "      person[KIDSFLEXIBILITY]=round(float(person[KIDSFLEXIBILITY]),4)\n",
        "      person[KIDS]=round(float(person[KIDS]),4)\n",
        "      person[SAVING]=round(float(person[SAVING]),4)\n",
        "      person[HOUSELOCATION]=round(float(person[HOUSELOCATION]),4)\n",
        "      person[COOKING]=round(float(person[COOKING]),4)\n",
        "      person[POLITICS]=round(float(person[POLITICS]),4)\n",
        "      person[ALIYAH]=round(float(person[ALIYAH]),4)\n",
        "      person[YOUNGEST]=round(float(person[YOUNGEST]),4)\n",
        "      person[OLDEST]=round(float(person[OLDEST]),4)\n",
        "      #person[ETHNICITY]=round(float(person[ETHNICITY]),4)\n",
        "      #person[INTERESTETHNICITY]=round(float(person[INTERESTETHNICITY]),4)\n",
        "      person[POLITICALFLEXIBILITY]=round(float(person[POLITICALFLEXIBILITY]),4)\n",
        "      person[MOVIEGENRES]=person[MOVIEGENRES].split(\", \")\n",
        "      person[HOBBIES]=person[HOBBIES].split(\", \")\n",
        "      person[VACATION]=person[VACATION].split(\", \")\n",
        "      person[IDEALMATCH]=person[IDEALMATCH].split(\", \")\n",
        "      person[FRIENDS]=person[FRIENDS].split(\", \")\n",
        "      person[prevMatches]=intList(person[prevMatches].split(\", \"))\n",
        "      person[MUSICGENRES]=person[MUSICGENRES].split(\", \")\n",
        "      person[LOCATION]=(float(person[LATITUDE]),float(person[LONGITUDE]))\n",
        "      person[IMPODIST]=round(float(person[IMPODIST]))\n",
        "      person[MAXDIST]=round(float(person[MAXDIST]))\n",
        "      person[RELIGION_FLEXIBILITY]=round(float(person[RELIGION_FLEXIBILITY]),4)\n",
        "      person[RELIGION]=round(float(person[RELIGION]),4)\n",
        "      person[ONLYCLOSE]=round(float(person[ONLYCLOSE]),4)\n",
        "      person[LASTNAME]=person[LASTNAME].lower()\n",
        "      person[HEIGHT]=round(float(person[HEIGHT]),4)\n",
        "      person[HEIGHTPREF]=convertHeightToTuple(person)\n",
        "      #person[EXTRA]=person[EXTRA].lower()\n",
        "   return dating_pool\n",
        "\n",
        "\n",
        "RADIUSEARTH=6373\n",
        "\n",
        "\n"
      ]
    },
    {
      "cell_type": "code",
      "execution_count": null,
      "metadata": {
        "id": "_jIkk9LeqCPw"
      },
      "outputs": [],
      "source": [
        "def distanceBetweenPeopleMiles(person1,person2): \n",
        "    R = 6373.0\n",
        "    if(person1[LOCATION]!=\"()\" and person2[LOCATION]!=\"()\"):\n",
        "        lat1 = math.radians(person1[LOCATION][0])\n",
        "        lon1 = math.radians(person1[LOCATION][1])\n",
        "        lat2 = math.radians(person2[LOCATION][0])\n",
        "        lon2 = math.radians(person2[LOCATION][1])\n",
        "        dlon = lon2 - lon1\n",
        "        dlat = lat2 - lat1\n",
        "        a = math.sin(dlat / 2)**2 + math.cos(lat1) * math.cos(lat2) * math.sin(dlon / 2)**2\n",
        "        c = 2 * math.atan2(math.sqrt(a), math.sqrt(1 - a))\n",
        "        distance = R * c\n",
        "        distance=distance*1.609\n",
        "    return distance"
      ]
    },
    {
      "cell_type": "code",
      "execution_count": null,
      "metadata": {
        "id": "dFZ3qLJl0YvV"
      },
      "outputs": [],
      "source": [
        "def withinDistance(person1, person2):\n",
        "  dist=distanceBetweenPeopleMiles(person1,person2)\n",
        "  impDist1=person1[IMPODIST]\n",
        "  impDist2=person2[IMPODIST]\n",
        "  maxDist1=person1[MAXDIST]\n",
        "  maxDist2=person2[MAXDIST]\n",
        "  if (impDist1==0 and impDist2==0):\n",
        "    return True\n",
        "  elif (maxDist1>dist and maxDist2>dist):\n",
        "    return True\n",
        "  if person1[ONLYCLOSE]==1 or person2[ONLYCLOSE]==1:\n",
        "    return False\n",
        "  elif (impDist2>0 and impDist1>0):\n",
        "    if ((maxDist1>dist and maxDist2+(maxDist2/(impDist2))<dist) or (maxDist2>dist and maxDist1+(maxDist1/(impDist1))<dist)):\n",
        "      return True\n",
        "    if ((impDist1==0 and maxDist2+(maxDist2/(impDist2))<dist) or (impDist2==0 and maxDist1+(maxDist1/(impDist1))<dist)):\n",
        "      return True\n",
        "  else:\n",
        "    return False\n",
        "\n",
        "def intList(list):\n",
        "  if len(list)>0:\n",
        "    newList=[]\n",
        "    for item in list:\n",
        "      if item!='' and item!=' ':\n",
        "        num=int(item)\n",
        "        newList.append(num)\n",
        "    return newList\n",
        "\n",
        "def noOverlap(previousIDs,previousMatches):\n",
        "  for item in previousIDs:\n",
        "    if item!='' and item!=' ':\n",
        "      if item in previousMatches:\n",
        "        return False\n",
        "  return True"
      ]
    },
    {
      "cell_type": "code",
      "execution_count": null,
      "metadata": {
        "colab": {
          "base_uri": "https://localhost:8080/"
        },
        "id": "Ga8nVhyDKvJB",
        "outputId": "0d3fb0e8-8e73-4782-b32d-42ca4098d821"
      },
      "outputs": [
        {
          "output_type": "stream",
          "name": "stdout",
          "text": [
            "['2', 'kshalev@worcester.edu', 'Karen Shalev', '24', '@karenshalev', 'https://www.facebook.com/karen.shalev.18', 'Instagram, Facebook Messenger, Email', '0', '0', 'Men', '71', '42.355492', '-71.048611', '2', '0', 'English, Hebrew', '0', '2', '0', '0.5', '4.5', 'Kosher-style', '0.25', '1', 'Action, Fantasy, Rom-coms, Comedy, Documentaries', 'Rock, Classical, Country, Israeli, Disney', 'Reading, Writing, Watching Netflix, Eating/Going out to restaurants, Making Music', '0.5', '0', '0', '0', '1', '2', '2', 'A mountain resort, A beach, Road Trip to National Parks, Israel', '3', '3', 'Loyal, Honest, Smart, A joy to be around, Hard working/Ambitious', '3', '0', '1', '3', '4', '3', '-1', '0.5', '0.5', '3', '0.5', '3', '10', '4', 'Ashkenazi', '5 ft 9 in to 5 ft 11 in (173 to 182 cm),    6 ft 6 in and up (197 cm and up)', '5', '24', '45', '3', '0', '0.5', '4', 'Loyal, Honest, Smart, Funny, Hard working/Ambitious', '3', '0', '0', '932, 1252, 828, 2009, 1380, 1476, 2703, 2500, 2181, 1901, 20, 2743, 648, 2667, 3113, 1356, 1940, 1194, 3466, 1995, 542, 1052, 1039, 1327, 3291, 328, 1918, 629, 2691, 3938, 77, 1004, 2158, 1544, 77, 1004, 2158, 1544, 1782, 2583, 4226, 4273, 2801, 2896, 3790, 2755, 4168, 5015, 777, 4219, 1769, 3192, 2171, 4963, 5391, 5353, 2344, 937, 4996, 5192, 5517, 3838, 5684, 825, 2084, 2762, 5684, 825, 2084, 2762, 5684, 825, 2084, 2762, 2285, 2203, 4597, 4177, 5861, 5954, 4987, 1835, 6037, 1680, 1965, 5236, 6221, 1268, 4064, 4308, 6221, 1268, 4064, 4308, 6278, 2093, 2034, 514, 6409, 1320, 4907, 5620, 6484, 6451, 807, 448, 6739, 6642, 6615, 2611, 787, 3286, 5293, 6779, 5137, 1220, 6823, 1148, 6860, 6905, 2385, 682, 810, 1697, 7010, 7023, 7025, 2757, 1710, 464, 515, 7160, 7180, 7201, 7202, 7317, 7313, 2858, 1950, 1790, 1873, 6774, 7225, 5809, 7325, 665, 5581, 7492, 1384, 3740, 5478, 7121, 7512, 7655, 7677, 7703, 7707, 2444, 6800, 2739, 721, 2200, 4934, 7584, 7293, 2200, 4934, 7584, 7293, 7775, 7996, 8100, 292, 1606, 6541, 8093, 8104, 8296, 8164, 8051, 8103, 8257, 8458, 8385, 8570, 8648, 8345, 8601, 8715, 8724, 8754, 8358, 8851, 8894, 8358, 8851, 8894, 8585, 3392, 1964, 8961, 9012, 9067, 9080, 9191, 9427, 9438, 9499, 9595, 9621, 9382, 9524, 9657, 9236, 9382, 9524, 9657, 9236, 9382, 9524, 9657, 9236, 3053, 7885, 4671, 6336, 8290, 6535, 8366, 7432', 'Shalev', '', '0', '0']\n"
          ]
        }
      ],
      "source": [
        "print(datingpool[0])"
      ]
    },
    {
      "cell_type": "code",
      "execution_count": null,
      "metadata": {
        "id": "ONBZ9aYml1wj"
      },
      "outputs": [],
      "source": [
        "def filter_basics(person, dating_pool, filterNum):\n",
        "        personID=person[ID]\n",
        "        personsmatches=[]\n",
        "        for potential in dating_pool:\n",
        "          matchWorthiness=0\n",
        "          if personID!=potential[ID]:\n",
        "            if person[LASTNAME]!=potential[LASTNAME]:\n",
        "              if potential[ID] not in person[prevMatches] and noOverlap(potential[PREVIDS],person[prevMatches]):\n",
        "    ##HEIGHT\n",
        "                if heightMatch(person,potential):\n",
        "    ##GENDER and AGE MATCH\n",
        "                  if ((person[HASKIDS]==1 and potential[MATCHWITHKIDS]==0) or (person[MATCHWITHKIDS]==0 and potential[HASKIDS]==1)==False):\n",
        "                      if genderMatch(person,potential):\n",
        "                        if ((person[OLDEST]>=potential[AGE] and person[YOUNGEST]<=potential[AGE])\\\n",
        "                        and (potential[OLDEST]>=person[AGE] and potential[YOUNGEST]<=person[AGE])):\n",
        "                        ##RELIGIOUSVIEWS  \n",
        "                          if (person[RELIGION]==potential[RELIGION]\\\n",
        "                              or ((person[RELIGION]-8/person[RELIGION_FLEXIBILITY]>potential[RELIGION] and person[RELIGION]+8/person[RELIGION_FLEXIBILITY]<potential[RELIGION])\\\n",
        "                              and (potential[RELIGION]-8/potential[RELIGION_FLEXIBILITY]>person[RELIGION] and potential[RELIGION]+8/potential[RELIGION_FLEXIBILITY]<person[RELIGION]))):\n",
        "                                matchWorthiness+=3\n",
        "                        ####What are they looking for? Fling? LTR? \n",
        "                          if person[LOOKINGFOR]==potential[LOOKINGFOR]\\\n",
        "                              or person[LOOKINGFOR]==1+potential[LOOKINGFOR] or person[LOOKINGFOR]==potential[LOOKINGFOR]-1:\n",
        "                                matchWorthiness+=1\n",
        "                                ####Politics\n",
        "                          if (person[POLITICS]==potential[POLITICS]\\\n",
        "                              or ((person[POLITICS]-8/person[POLITICALFLEXIBILITY]>potential[POLITICS] and person[POLITICS]+8/person[POLITICALFLEXIBILITY]<potential[POLITICS])\\\n",
        "                              and (potential[POLITICS]-8/potential[POLITICALFLEXIBILITY]>person[RELIGION] and potential[POLITICS]+8/potential[POLITICALFLEXIBILITY]<person[POLITICS]))):\n",
        "                                matchWorthiness+=1         \n",
        "                          if withinDistance(person,potential):\n",
        "                                  matchWorthiness+=3\n",
        "                          if withinDistance(person,potential)==False and person[ONLYCLOSE]==1:\n",
        "                            matchWorthiness-=10\n",
        "                          if matchWorthiness>filterNum:          \n",
        "                                  personsmatches.append(int(potential[ID]))\n",
        "\n",
        "        return personsmatches    "
      ]
    },
    {
      "cell_type": "code",
      "execution_count": null,
      "metadata": {
        "id": "d5RJTu-EmrqI"
      },
      "outputs": [],
      "source": [
        "def choose_filter(dating_pool):\n",
        "    personNUM=0\n",
        "    filtered_pool=[]\n",
        "    while personNUM<=len(dating_pool)-1:\n",
        "        person=dating_pool[personNUM]\n",
        "        if person[ONLYCLOSE]==0:\n",
        "              personsmatches=filter_basics(person,dating_pool,3.5)\n",
        "              if len(personsmatches)<=1:\n",
        "                personsmatches=filter_basics(person,dating_pool,2.5)\n",
        "              if len(personsmatches)<=1:\n",
        "                person[MAXDIST]=person[MAXDIST]*2\n",
        "                personsmatches=filter_basics(person,dating_pool,3.5)\n",
        "              if len(personsmatches)<=1:\n",
        "                person[MAXDIST]=person[MAXDIST]\n",
        "                personsmatches=filter_basics(person,dating_pool,2.5)\n",
        "              if len(personsmatches)<=1:\n",
        "                person[MAXDIST]=person[MAXDIST]*2\n",
        "                personsmatches=filter_basics(person,dating_pool,3.5)\n",
        "              if len(personsmatches)<=1:\n",
        "                person[MAXDIST]=person[MAXDIST]\n",
        "                personsmatches=filter_basics(person,dating_pool,2.5)\n",
        "              if len(personsmatches)<=1:\n",
        "                person[MAXDIST]=person[MAXDIST]/2\n",
        "                personsmatches=filter_basics(person,dating_pool,1.5)\n",
        "              if len(personsmatches)<=1:\n",
        "                person[MAXDIST]=person[MAXDIST]*2\n",
        "                personsmatches=filter_basics(person,dating_pool,1.5)\n",
        "              if personNUM%1000==0:\n",
        "                print(personNUM)\n",
        "              person.append(personsmatches)\n",
        "              filtered_pool.append(person)\n",
        "              personNUM+=1\n",
        "        else:\n",
        "              personsmatches=filter_basics(person,dating_pool,3.5)\n",
        "              if len(personsmatches)<=1:\n",
        "                personsmatches=filter_basics(person,dating_pool,2.5)\n",
        "              if len(personsmatches)<=1:\n",
        "                person[MAXDIST]=person[MAXDIST]\n",
        "                personsmatches=filter_basics(person,dating_pool,2.5)\n",
        "              if len(personsmatches)<=1:\n",
        "                person[MAXDIST]=person[MAXDIST]/2\n",
        "                personsmatches=filter_basics(person,dating_pool,1.5)\n",
        "              if len(personsmatches)<=1:\n",
        "                person[MAXDIST]=person[MAXDIST]*2\n",
        "                personsmatches=filter_basics(person,dating_pool,1.5)\n",
        "              if personNUM%1000==0:\n",
        "                print(personNUM)\n",
        "              person.append(personsmatches)\n",
        "              filtered_pool.append(person)\n",
        "              personNUM+=1\n",
        "    return dating_pool"
      ]
    },
    {
      "cell_type": "code",
      "execution_count": null,
      "metadata": {
        "colab": {
          "base_uri": "https://localhost:8080/"
        },
        "id": "VmdVg3_ClRex",
        "outputId": "08d6d1de-ef08-47a0-fbc3-965d76d89fdb"
      },
      "outputs": [
        {
          "output_type": "stream",
          "name": "stdout",
          "text": [
            "0\n",
            "1000\n",
            "2000\n",
            "3000\n",
            "4000\n",
            "5000\n",
            "6000\n",
            "[2.0, 'kshalev@worcester.edu', 'Karen Shalev', 24.0, '@karenshalev', 'https://www.facebook.com/karen.shalev.18', ['Instagram', 'Facebook Messenger', 'Email'], 0.0, '0', [1], 71.0, '42.355492', '-71.048611', 2, 0.0, 'English, Hebrew', 0.0, 2.0, 0.0, 0.5, 4.5, ['Kosher-style'], 0.25, 1.0, ['Action', 'Fantasy', 'Rom-coms', 'Comedy', 'Documentaries'], ['Rock', 'Classical', 'Country', 'Israeli', 'Disney'], ['Reading', 'Writing', 'Watching Netflix', 'Eating/Going out to restaurants', 'Making Music'], 0.5, 0.0, 0.0, 0.0, 1.0, 2.0, 2.0, ['A mountain resort', 'A beach', 'Road Trip to National Parks', 'Israel'], 3.0, 3.0, ['Loyal', 'Honest', 'Smart', 'A joy to be around', 'Hard working/Ambitious'], 3.0, 0.0, 1.0, 3.0, 4.0, 3.0, -1.0, 0.5, 0.5, 3.0, 0.5, 3.0, '10', 4.0, 'Ashkenazi', (71, 78), 5.0, 24.0, 45.0, 3.0, '0', '0.5', 4.0, ['Loyal', 'Honest', 'Smart', 'Funny', 'Hard working/Ambitious'], 3.0, '0', '0', [932, 1252, 828, 2009, 1380, 1476, 2703, 2500, 2181, 1901, 20, 2743, 648, 2667, 3113, 1356, 1940, 1194, 3466, 1995, 542, 1052, 1039, 1327, 3291, 328, 1918, 629, 2691, 3938, 77, 1004, 2158, 1544, 77, 1004, 2158, 1544, 1782, 2583, 4226, 4273, 2801, 2896, 3790, 2755, 4168, 5015, 777, 4219, 1769, 3192, 2171, 4963, 5391, 5353, 2344, 937, 4996, 5192, 5517, 3838, 5684, 825, 2084, 2762, 5684, 825, 2084, 2762, 5684, 825, 2084, 2762, 2285, 2203, 4597, 4177, 5861, 5954, 4987, 1835, 6037, 1680, 1965, 5236, 6221, 1268, 4064, 4308, 6221, 1268, 4064, 4308, 6278, 2093, 2034, 514, 6409, 1320, 4907, 5620, 6484, 6451, 807, 448, 6739, 6642, 6615, 2611, 787, 3286, 5293, 6779, 5137, 1220, 6823, 1148, 6860, 6905, 2385, 682, 810, 1697, 7010, 7023, 7025, 2757, 1710, 464, 515, 7160, 7180, 7201, 7202, 7317, 7313, 2858, 1950, 1790, 1873, 6774, 7225, 5809, 7325, 665, 5581, 7492, 1384, 3740, 5478, 7121, 7512, 7655, 7677, 7703, 7707, 2444, 6800, 2739, 721, 2200, 4934, 7584, 7293, 2200, 4934, 7584, 7293, 7775, 7996, 8100, 292, 1606, 6541, 8093, 8104, 8296, 8164, 8051, 8103, 8257, 8458, 8385, 8570, 8648, 8345, 8601, 8715, 8724, 8754, 8358, 8851, 8894, 8358, 8851, 8894, 8585, 3392, 1964, 8961, 9012, 9067, 9080, 9191, 9427, 9438, 9499, 9595, 9621, 9382, 9524, 9657, 9236, 9382, 9524, 9657, 9236, 9382, 9524, 9657, 9236, 3053, 7885, 4671, 6336, 8290, 6535, 8366, 7432], 'shalev', (42.355492, -71.048611), '0', 0.0, [116, 321, 430, 504, 612, 636, 697, 759, 782, 855, 882, 885, 910, 945, 1104, 1144, 1358, 1482, 1716, 1981, 1985, 2115, 2149, 2264, 2291, 2358, 2581, 2609, 2741, 3042, 3108, 3138, 3295, 3306, 3311, 3709, 3719, 3778, 3903, 3986, 4227, 4311, 4318, 4350, 4366, 4619, 4840, 5097, 5139, 5197, 5213, 5416, 5516, 5596, 5621, 5638, 5700, 5851, 6077, 6199, 6305, 6329, 6332, 6472, 6537, 6581, 6709, 6753, 6827, 6943, 6994, 7350, 7392, 7519, 7641, 7765, 7766, 7994, 8109, 8127, 8239, 8259, 8355, 8381, 8396, 8427, 8462, 8546, 8572, 8574, 8676, 8743, 8782, 8849, 8875, 8893, 9060, 9125, 9160, 9264, 9289, 9388, 9467, 9532, 9641, 9771]]\n"
          ]
        }
      ],
      "source": [
        "def filterthepool(dating_pool):\n",
        "  dating_pool_float=floatdatingpool(dating_pool)\n",
        "  totallyfilteredpool=choose_filter(dating_pool_float)\n",
        "  print(dating_pool[0])\n",
        "  return totallyfilteredpool\n",
        "\n",
        "filtered_people=filterthepool(datingpool)"
      ]
    },
    {
      "cell_type": "code",
      "execution_count": null,
      "metadata": {
        "id": "o-ghZiM3j_Ve"
      },
      "outputs": [],
      "source": [
        "def removePrevMatches(filtered_people):\n",
        "  for person in filtered_people:\n",
        "    if person[ID]%1000==0:\n",
        "      print(person[ID])\n",
        "    realMatch=[]\n",
        "    for personMatch in person[-1]:\n",
        "      if str(personMatch) not in person[prevMatches]:\n",
        "        if str(PREVIDS) not in person[prevMatches]:\n",
        "          realMatch.append(personMatch)\n",
        "    person.append(realMatch)\n",
        "  return filtered_people"
      ]
    },
    {
      "cell_type": "code",
      "execution_count": null,
      "metadata": {
        "id": "252XRFJB0jjN"
      },
      "outputs": [],
      "source": [
        "with open(\"baseMatches.csv\", \"w\") as f:\n",
        "    writer = csv.writer(f)\n",
        "    writer.writerows(filtered_people)"
      ]
    },
    {
      "cell_type": "code",
      "execution_count": null,
      "metadata": {
        "id": "9L1vPP9V07HK"
      },
      "outputs": [],
      "source": [
        "def CalcRiskyBehavior(person,personOfInterest):\n",
        "  riskyMatch=0\n",
        "  if (person[SMOKING]>=personOfInterest[SMOKING]-.5 or person[SMOKING]>=personOfInterest[SMOKING]+.5):\n",
        "    riskyMatch+=.55\n",
        "  if (person[WEED]>=personOfInterest[WEED]-1 or person[WEED]>=personOfInterest[WEED]+1):\n",
        "    riskyMatch+=.35\n",
        "  if (person[ALCOHOL]>=personOfInterest[ALCOHOL]-1 or person[ALCOHOL]>=personOfInterest[ALCOHOL]+1):\n",
        "    riskyMatch+=.1\n",
        "  return riskyMatch\n",
        "\n",
        "def languageMatch(person,personOfInterest):\n",
        "  languageMatch=0\n",
        "  for language in person[LANGUAGE]:\n",
        "    if language in personOfInterest[LANGUAGE]:\n",
        "      languageMatch+=1\n",
        "  return languageMatch\n",
        "\n",
        "def ethnicityMatch(person,personOfInterest):\n",
        "  ethnicityBaseLoc=0\n",
        "  if person[ETHNICITY] == personOfInterest[INTERESTETHNICITY]:\n",
        "    ethnicityBaseLoc+=1\n",
        "  if person[INTERESTETHNICITY] == personOfInterest[ETHNICITY]:\n",
        "    ethnicityBaseLoc+=1\n",
        "  return ethnicityBaseLoc\n",
        "\n",
        "def kidsFunction(person, personOfInterest):\n",
        "  kidMatch=0\n",
        "  personalKidsFlexibility=person[KIDSFLEXIBILITY]\n",
        "  poiKidsFlexibility=personOfInterest[KIDSFLEXIBILITY]\n",
        "  if (person[KIDS]>=(personOfInterest[KIDS]-poiKidsFlexibility) and person[KIDS]<=(personOfInterest[KIDS]+poiKidsFlexibility)):\n",
        "    if (personOfInterest[KIDS]>=(person[KIDS]-personalKidsFlexibility) and personOfInterest[KIDS]<=(person[KIDS]+personalKidsFlexibility)):\n",
        "      kidMatch+=1.5\n",
        "  if person[ADOPT]==personOfInterest[ADOPT]:\n",
        "      kidMatch+=.5\n",
        "  else:\n",
        "    kidMatch-=.5\n",
        "  return kidMatch\n",
        "\n",
        "\n",
        "def longTermGoals(person,personOfInterest): ###Kids and savings and houses... long term stuff. Probably should move education to here?\n",
        "  LTMatch=0\n",
        "  ## Make higher number be more flexible\n",
        "  personalHouseSkillFlexibility=(-1*person[HOUSESKILLFLEX])+6\n",
        "  POIHouseSkillFlexibility=(-1*personOfInterest[HOUSESKILLFLEX])+6\n",
        "  personalKidsFlexibility=(-1*person[KIDSFLEXIBILITY])+6\n",
        "  poiKidsFlexibility=(-1*personOfInterest[KIDSFLEXIBILITY])+6\n",
        "  if abs(personOfInterest[ALIYAH]-person[ALIYAH])<=.5:\n",
        "      LTMatch+=1\n",
        "  LTMatch+=kidsFunction(person,personOfInterest) ##0-2##\n",
        "  if abs(person[SHABBAT]-personOfInterest[SHABBAT])<=.5:\n",
        "      LTMatch+=1.5\n",
        "  if (person[SAVING]>=(personOfInterest[SAVING]-3) and person[SAVING]<=(personOfInterest[SAVING]+3)):\n",
        "      LTMatch+=1\n",
        "  if (person[HOUSELOCATION]>=(personOfInterest[HOUSELOCATION]-2) and person[HOUSELOCATION]<=(personOfInterest[HOUSELOCATION]+2)):\n",
        "      LTMatch+=.5\n",
        "  if(person[COOKING]>(personOfInterest[COOKING]-POIHouseSkillFlexibility) and person[COOKING]<(personOfInterest[COOKING]+POIHouseSkillFlexibility)):\n",
        "    if(personOfInterest[COOKING]>(person[COOKING]-personalHouseSkillFlexibility) and personOfInterest[COOKING]<(person[COOKING]+personalHouseSkillFlexibility)):\n",
        "      LTMatch+=1\n",
        "  ethnic=.28*ethnicityMatch(person,personOfInterest)\n",
        "  language=.33*languageMatch(person,personOfInterest)\n",
        "  LTMatch=LTMatch+ethnic+language\n",
        "  LTMatch=LTMatch/8.25\n",
        "  return LTMatch\n",
        "\n",
        "def checkSimilarity(person,personOfInterest,listIndexToCheck): ####Helper function for shared hobbies\n",
        "  similarity=0\n",
        "  for item in person[listIndexToCheck]:\n",
        "    if item in personOfInterest[listIndexToCheck]:\n",
        "      similarity+=1\n",
        "  if similarity>3:\n",
        "    similarity=3\n",
        "  return similarity\n",
        "\n",
        "def interestMatch(person,personOfInterest): ###Shared hobbies\n",
        "  interestMatch=0\n",
        "  if(person[SPORTS]>=(personOfInterest[SPORTS]-.5) and person[SPORTS]<=(personOfInterest[SPORTS]+.5)):\n",
        "    interestMatch+=2\n",
        "  if(person[PETS]>=(personOfInterest[PETS]-.5) and person[PETS]<=(personOfInterest[PETS]+.5)):\n",
        "    interestMatch+=2\n",
        "  if(person[FIRSTDATE]==personOfInterest[FIRSTDATE]):\n",
        "    interestMatch+=1\n",
        "  hobbySimilarity=checkSimilarity(person,personOfInterest,HOBBIES)\n",
        "  vacationSimilarity=checkSimilarity(person,personOfInterest,VACATION)\n",
        "  movieSimilarity=checkSimilarity(person,personOfInterest,MOVIEGENRES)\n",
        "  musicSimilarity=checkSimilarity(person,personOfInterest,MUSICGENRES)\n",
        "  interestMatch+=musicSimilarity+movieSimilarity+vacationSimilarity+hobbySimilarity\n",
        "  interestMatch=interestMatch/20\n",
        "  return interestMatch\n",
        "\n",
        "\n",
        "def personalityTraitMatch(person, personOfInterest): ###Looks at ideal traits for each other\n",
        "  traitMatch=0\n",
        "  reverseTraitMatch=0\n",
        "  for item in person[FRIENDS]:\n",
        "    if item in personOfInterest[IDEALMATCH]:\n",
        "      traitMatch+=1\n",
        "  if traitMatch>3:\n",
        "    traitMatch=3\n",
        "  for item in personOfInterest[FRIENDS]:\n",
        "    if item in person[IDEALMATCH]:\n",
        "      reverseTraitMatch+=1\n",
        "  if reverseTraitMatch>3:\n",
        "    reverseTraitMatch=3\n",
        "  return (reverseTraitMatch*traitMatch)\n",
        "\n",
        "def matchingDiet(person, personOfInterest): ####KOSHER AND DIET\n",
        "  score=0\n",
        "  for i in person[DIET]:\n",
        "    if ((i==\"Kosher\" and \"Kosher\" in personOfInterest[DIET]) or ( i==\"Kosher-style\" and \"Kosher-style\" in personOfInterest[DIET])):\n",
        "      score+=1\n",
        "    elif i in personOfInterest[DIET]:\n",
        "      score+=.25\n",
        "  if score>=2:\n",
        "    score=2\n",
        "  return score/10\n",
        "\n",
        "\n",
        "def personalityMatch(person,potential): ####Combines personality features\n",
        "  personalityMatch=0\n",
        "  traits=personalityTraitMatch(person,potential)\n",
        "  personalityMatch+=.1*traits\n",
        "  if (abs(person[COMMUNICATION]-potential[COMMUNICATION])<=1):\n",
        "      personalityMatch+=.125\n",
        "  if (abs(person[FUTUREWORRY]-potential[FUTUREWORRY])<=1):\n",
        "      personalityMatch+=.15\n",
        "  if (abs(person[PARTIES]-potential[PARTIES])<=1):\n",
        "      personalityMatch+=.125\n",
        "  if (abs(person[PROCRASTINATE]-potential[PROCRASTINATE])<=1):\n",
        "      personalityMatch+=.1    \n",
        "  if (abs(person[BIGPIC]-potential[BIGPIC])<=1):\n",
        "      personalityMatch+=.1\n",
        "  if (abs(person[SELFCENTER]-potential[SELFCENTER])<=1):\n",
        "      personalityMatch+=.1\n",
        "  if (abs(person[EXERCISE]-potential[EXERCISE])<=1):\n",
        "      personalityMatch+=.25\n",
        "  if (person[GOFLOW]>=(potential[GOFLOW]-.5) and person[GOFLOW]<=(potential[GOFLOW]+.5)):\n",
        "    personalityMatch+=.2\n",
        "  if (person[COMPLETEDEDU]>=(potential[COMPLETEDEDU]-1) and person[COMPLETEDEDU]<=(potential[COMPLETEDEDU]+1)):\n",
        "    personalityMatch+=.15\n",
        "  personalityMatch+=matchingDiet(person,potential)\n",
        "  personalityMatch=personalityMatch/2\n",
        "\n",
        "  return personalityMatch\n",
        "\n",
        "\n",
        "\n",
        "\n",
        "\n",
        "\n"
      ]
    },
    {
      "cell_type": "code",
      "execution_count": null,
      "metadata": {
        "colab": {
          "base_uri": "https://localhost:8080/"
        },
        "id": "PcPYa68KVk3U",
        "outputId": "ec3b1114-8d31-4fd6-d7d6-613606e26b9e"
      },
      "outputs": [
        {
          "output_type": "stream",
          "name": "stdout",
          "text": [
            "100\n",
            "400\n",
            "500\n",
            "700\n",
            "800\n",
            "900\n",
            "1000\n",
            "1100\n",
            "1300\n",
            "1700\n",
            "1800\n",
            "2000\n",
            "2200\n",
            "2300\n",
            "2500\n",
            "2700\n",
            "2800\n",
            "2900\n",
            "3100\n",
            "3200\n",
            "3300\n",
            "3400\n",
            "3500\n",
            "3600\n",
            "3900\n",
            "4000\n",
            "4100\n",
            "4300\n",
            "4400\n",
            "4500\n",
            "4600\n",
            "4700\n",
            "4800\n",
            "5100\n",
            "5700\n",
            "5800\n",
            "5900\n",
            "6000\n",
            "6100\n",
            "6200\n",
            "6600\n",
            "6700\n",
            "6900\n",
            "7000\n",
            "7200\n",
            "7300\n",
            "7400\n",
            "7700\n",
            "7800\n",
            "7900\n",
            "8100\n",
            "8200\n",
            "8300\n",
            "8600\n",
            "8700\n",
            "8800\n",
            "9000\n",
            "9100\n",
            "9200\n",
            "9300\n",
            "9500\n",
            "9600\n",
            "9700\n"
          ]
        }
      ],
      "source": [
        "def peopleMatch(person,personOfInterest):\n",
        "  personalityMatchSum=personalityMatch(person,personOfInterest)\n",
        "  interestMatchSum=interestMatch(person,personOfInterest)\n",
        "  riskyMatchSum=CalcRiskyBehavior(person,personOfInterest)\n",
        "  longTermMatchSum=longTermGoals(person,personOfInterest)\n",
        "  totalMatch=.2*longTermMatchSum+.2*riskyMatchSum+.3*interestMatchSum+.3*personalityMatchSum\n",
        "  listID=((person[ID]),(personOfInterest[ID]))\n",
        "\n",
        "  return [listID,totalMatch]\n",
        "\n",
        "def checkIfScanned(person,personOfInterest,matchingPairsResults):\n",
        "  personID=person[ID]\n",
        "  personOfInterest=personOfInterest[ID]\n",
        "  for item in matchingPairsResults:\n",
        "    listID=matchingPairsResults[0]\n",
        "    if(personID in listID and personOfInterestID in listID):\n",
        "      return True\n",
        "  return False\n",
        "\n",
        "def findPerson(potentialID, dating_pool):\n",
        "  for person in dating_pool:\n",
        "    person[ID]=int(person[ID])\n",
        "    if person[ID]==potentialID:\n",
        "      return person\n",
        "\n",
        "def findPersonName(potentialID, dating_pool):\n",
        "  for person in dating_pool:\n",
        "    person[ID]=int(person[ID])\n",
        "    if person[ID]==potentialID:\n",
        "      return person[NAME]\n",
        "\n",
        "def sortSecond(val): \n",
        "    return val[1]  \n",
        "\n",
        "def matchAllPeople(dating_pool):\n",
        "  matchedScores=[]\n",
        "  for person in datingpool:\n",
        "    personsMatchedScores=[]\n",
        "    if person[ID]%100==0:\n",
        "      print(person[ID])\n",
        "    for potentialID in person[-1]: \n",
        "      if person[ID]!=potentialID:\n",
        "        personOfInterest=findPerson(potentialID, dating_pool)\n",
        "        specificMatchScore=peopleMatch(person,personOfInterest)\n",
        "        personsMatchedScores.append(specificMatchScore)\n",
        "    if len(personsMatchedScores)>=6:\n",
        "        personsMatchedScores.sort(key = sortSecond, reverse = True)\n",
        "        personsMatchedScores=personsMatchedScores[0:4]\n",
        "    matchedScores.append(personsMatchedScores)\n",
        "  return matchedScores\n",
        "\n",
        "\n",
        "matchedScores=matchAllPeople(filtered_people)\n",
        "with open(\"matchedScores.csv\", \"w\") as f:\n",
        "    writer = csv.writer(f)\n",
        "    writer.writerows(matchedScores)\n",
        "\n"
      ]
    },
    {
      "cell_type": "code",
      "execution_count": null,
      "metadata": {
        "id": "QY1jsIyPsNBc"
      },
      "outputs": [],
      "source": [
        "def reflexive(toReflex):\n",
        "  reflexiveMatches=[]\n",
        "  for person in toReflex:\n",
        "    personsReflexList=[person]\n",
        "    for personMatch in person:\n",
        "      matchedPersons=personMatch[0][1]-1\n",
        "      for personMatch2 in toReflex[matchedPersons]:\n",
        "        #print(personMatch[0][0],matchedPersons,personMatch2[0][1])\n",
        "        if personMatch2[0][1]==person:\n",
        "           personsReflexList.append(personMatch)\n",
        "    reflexiveMatches.append(personsReflexList)\n",
        "  return reflexiveMatches\n",
        "#################################################HUH?###############\n",
        "#reflexList=reflexive(matchedScores2)"
      ]
    },
    {
      "cell_type": "code",
      "execution_count": null,
      "metadata": {
        "colab": {
          "base_uri": "https://localhost:8080/"
        },
        "id": "ShEa7vZtNq5B",
        "outputId": "f041f9db-9169-4e97-f81e-2614c38fbe53"
      },
      "outputs": [
        {
          "output_type": "stream",
          "name": "stdout",
          "text": [
            "[900, 8824, 5229, 8895, 9013]\n",
            "[]\n",
            "[2662, 1880, 5396, 6260, 9404]\n",
            "[3550, 1634, 9398, 8763, 3334]\n",
            "[4468, 9054, 1946, 1648, 937]\n",
            "[5330, 5402, 2174, 6668, 7723]\n",
            "[]\n",
            "[7013, 1592, 5397, 708, 6527]\n",
            "[7747, 6236, 5015, 6744, 6753]\n",
            "[8409, 2320, 925, 3395, 4216]\n",
            "[9029, 5640, 9178, 6779, 5391]\n",
            "[9591, 8361, 9725, 274, 865]\n"
          ]
        }
      ],
      "source": [
        "#print(reflexList[0])\n",
        "\n",
        "\n",
        "def isolateToSocial(matchedScoresList):\n",
        "  allMatches=[]\n",
        "  for persons in matchedScoresList:\n",
        "    matches=[]\n",
        "    for eachMatch in persons:\n",
        "      if(len(matches)==0):\n",
        "        matches.append((eachMatch[0][0]))\n",
        "      matches.append(eachMatch[0][1])\n",
        "    #if(int(persons[0][0][0])%500==0):\n",
        "    #  print(matches)\n",
        "    allMatches.append(matches)\n",
        "    if len(allMatches)%500==0:\n",
        "      print(allMatches[-1])\n",
        "  return allMatches\n",
        "\n",
        "toSocial=isolateToSocial(matchedScores)"
      ]
    },
    {
      "cell_type": "code",
      "execution_count": null,
      "metadata": {
        "id": "WRA_huesSYbZ"
      },
      "outputs": [],
      "source": [
        "\n",
        "with open(\"PersontoMatches.csv\", \"w\") as f:\n",
        "    writer = csv.writer(f)\n",
        "    writer.writerows(toSocial)\n"
      ]
    },
    {
      "cell_type": "code",
      "execution_count": null,
      "metadata": {
        "colab": {
          "base_uri": "https://localhost:8080/"
        },
        "id": "EYzB97MSsyiT",
        "outputId": "39f10d2d-feee-4888-a0b7-0dc5ba7ba5cd"
      },
      "outputs": [
        {
          "output_type": "stream",
          "name": "stdout",
          "text": [
            "[2, 'kshalev@worcester.edu', 'Karen Shalev', 24.0, '@karenshalev', 'https://www.facebook.com/karen.shalev.18', ['Instagram', 'Facebook Messenger', 'Email'], 0.0, '0', [1], 71.0, '42.355492', '-71.048611', 2, 0.0, 'English, Hebrew', 0.0, 2.0, 0.0, 0.5, 4.5, ['Kosher-style'], 0.25, 1.0, ['Action', 'Fantasy', 'Rom-coms', 'Comedy', 'Documentaries'], ['Rock', 'Classical', 'Country', 'Israeli', 'Disney'], ['Reading', 'Writing', 'Watching Netflix', 'Eating/Going out to restaurants', 'Making Music'], 0.5, 0.0, 0.0, 0.0, 1.0, 2.0, 2.0, ['A mountain resort', 'A beach', 'Road Trip to National Parks', 'Israel'], 3.0, 3.0, ['Loyal', 'Honest', 'Smart', 'A joy to be around', 'Hard working/Ambitious'], 3.0, 0.0, 1.0, 3.0, 4.0, 3.0, -1.0, 0.5, 0.5, 3.0, 0.5, 3.0, '10', 4.0, 'Ashkenazi', (71, 78), 5.0, 24.0, 45.0, 3.0, '0', '0.5', 4.0, ['Loyal', 'Honest', 'Smart', 'Funny', 'Hard working/Ambitious'], 3.0, '0', '0', [932, 1252, 828, 2009, 1380, 1476, 2703, 2500, 2181, 1901, 20, 2743, 648, 2667, 3113, 1356, 1940, 1194, 3466, 1995, 542, 1052, 1039, 1327, 3291, 328, 1918, 629, 2691, 3938, 77, 1004, 2158, 1544, 77, 1004, 2158, 1544, 1782, 2583, 4226, 4273, 2801, 2896, 3790, 2755, 4168, 5015, 777, 4219, 1769, 3192, 2171, 4963, 5391, 5353, 2344, 937, 4996, 5192, 5517, 3838, 5684, 825, 2084, 2762, 5684, 825, 2084, 2762, 5684, 825, 2084, 2762, 2285, 2203, 4597, 4177, 5861, 5954, 4987, 1835, 6037, 1680, 1965, 5236, 6221, 1268, 4064, 4308, 6221, 1268, 4064, 4308, 6278, 2093, 2034, 514, 6409, 1320, 4907, 5620, 6484, 6451, 807, 448, 6739, 6642, 6615, 2611, 787, 3286, 5293, 6779, 5137, 1220, 6823, 1148, 6860, 6905, 2385, 682, 810, 1697, 7010, 7023, 7025, 2757, 1710, 464, 515, 7160, 7180, 7201, 7202, 7317, 7313, 2858, 1950, 1790, 1873, 6774, 7225, 5809, 7325, 665, 5581, 7492, 1384, 3740, 5478, 7121, 7512, 7655, 7677, 7703, 7707, 2444, 6800, 2739, 721, 2200, 4934, 7584, 7293, 2200, 4934, 7584, 7293, 7775, 7996, 8100, 292, 1606, 6541, 8093, 8104, 8296, 8164, 8051, 8103, 8257, 8458, 8385, 8570, 8648, 8345, 8601, 8715, 8724, 8754, 8358, 8851, 8894, 8358, 8851, 8894, 8585, 3392, 1964, 8961, 9012, 9067, 9080, 9191, 9427, 9438, 9499, 9595, 9621, 9382, 9524, 9657, 9236, 9382, 9524, 9657, 9236, 9382, 9524, 9657, 9236, 3053, 7885, 4671, 6336, 8290, 6535, 8366, 7432], 'shalev', (42.355492, -71.048611), '0', 0.0, [116, 321, 430, 504, 612, 636, 697, 759, 782, 855, 882, 885, 910, 945, 1104, 1144, 1358, 1482, 1716, 1981, 1985, 2115, 2149, 2264, 2291, 2358, 2581, 2609, 2741, 3042, 3108, 3138, 3295, 3306, 3311, 3709, 3719, 3778, 3903, 3986, 4227, 4311, 4318, 4350, 4366, 4619, 4840, 5097, 5139, 5197, 5213, 5416, 5516, 5596, 5621, 5638, 5700, 5851, 6077, 6199, 6305, 6329, 6332, 6472, 6537, 6581, 6709, 6753, 6827, 6943, 6994, 7350, 7392, 7519, 7641, 7765, 7766, 7994, 8109, 8127, 8239, 8259, 8355, 8381, 8396, 8427, 8462, 8546, 8572, 8574, 8676, 8743, 8782, 8849, 8875, 8893, 9060, 9125, 9160, 9264, 9289, 9388, 9467, 9532, 9641, 9771]]\n"
          ]
        }
      ],
      "source": [
        "print(filtered_people[0])"
      ]
    },
    {
      "cell_type": "code",
      "execution_count": null,
      "metadata": {
        "id": "EXfXz5osPqjj"
      },
      "outputs": [],
      "source": [
        "def attachSocials(toSocial, filtered_people):\n",
        "  SocialsIncluded=[]\n",
        "  for person in toSocial:\n",
        "    personList=[]\n",
        "    if len(person)>0:\n",
        "      personID=[person[0]]\n",
        "      for id in filtered_people:\n",
        "        if personID[0]==id[ID]:\n",
        "          personMatch=id\n",
        "      personContact=\"\"\n",
        "      personContactInfo=personMatch[CONTACTPREF]\n",
        "      if len(personContactInfo)>1:\n",
        "        for i in range (0,len(personContactInfo)-1):\n",
        "            personContact+=str(personContactInfo[i])+\" or \"\n",
        "        personContact+=str(personContactInfo[-1])\n",
        "      else:\n",
        "        personContact=str(personContactInfo[0])\n",
        "      personList=[personMatch[NAME],personMatch[EMAIL],personContact]\n",
        "      matchList=[]\n",
        "      for i in range(1,len(person)):\n",
        "        for id in filtered_people:\n",
        "          if person[i]==id[ID]:\n",
        "            match=id\n",
        "        matchSocial=[match[NAME]+\" || Contact Info: \"]\n",
        "        for i in match[CONTACTPREF]:\n",
        "          if i==\"Facebook Messenger\":\n",
        "            if match[FACEBOOK]==\"0\":\n",
        "              match[FACEBOOK]=\"Search their name\"\n",
        "            matchSocial.append(\"Facebook Messenger- \"+match[FACEBOOK]+\" \")\n",
        "          if i==\"Instagram\":\n",
        "            if match[INSTAGRAM]!=\"0\":\n",
        "              matchSocial.append(\"Instagram- \"+match[INSTAGRAM]+\" |\")\n",
        "          if i==\"Email\":\n",
        "            if match[EMAIL]!=\"0\":\n",
        "              matchSocial.append(\"Email- \"+ match[EMAIL]+\" |\")\n",
        "        if match[BLURB]!=\"0\":\n",
        "          matchSocial.append(\"| Blurb: \"+match[BLURB])\n",
        "        matchSocialString=\"\"\n",
        "        for i in range(0,len(matchSocial)):\n",
        "          matchSocialString+=str(matchSocial[i])\n",
        "        matchList.append(matchSocialString)\n",
        "      toAppendToEmail=\"\"\n",
        "      for j in matchList:\n",
        "        personList.append(str(j))\n",
        "    SocialsIncluded.append(personList)\n",
        "  return SocialsIncluded"
      ]
    },
    {
      "cell_type": "code",
      "execution_count": null,
      "metadata": {
        "id": "YW1fWg_6tYCV"
      },
      "outputs": [],
      "source": [
        ""
      ]
    },
    {
      "cell_type": "code",
      "execution_count": null,
      "metadata": {
        "id": "hpanQN_NWPHB"
      },
      "outputs": [],
      "source": [
        "withSocials=attachSocials(toSocial,filtered_people)\n",
        "with open(\"SocialsIncluded.csv\", \"w\") as f:\n",
        "    writer = csv.writer(f)\n",
        "    writer.writerows(withSocials)"
      ]
    },
    {
      "cell_type": "code",
      "execution_count": null,
      "metadata": {
        "id": "ULarHfaui3s6"
      },
      "outputs": [],
      "source": [
        ""
      ]
    },
    {
      "cell_type": "code",
      "execution_count": null,
      "metadata": {
        "id": "ud99PGVOnZU8"
      },
      "outputs": [],
      "source": [
        "  "
      ]
    },
    {
      "cell_type": "code",
      "execution_count": null,
      "metadata": {
        "colab": {
          "base_uri": "https://localhost:8080/"
        },
        "id": "UdZk27r862dG",
        "outputId": "1f9956fe-b858-4643-bd77-3ff5cd652176"
      },
      "outputs": [
        {
          "name": "stdout",
          "output_type": "stream",
          "text": [
            "718\n",
            "92.87089081928121\n",
            "284\n"
          ]
        }
      ],
      "source": [
        "def averageLengthofMatches(listOfPeople):\n",
        "  count=0\n",
        "  countOfOnes=0\n",
        "  countOfZeroes=0\n",
        "  for person in listOfPeople:\n",
        "    count+=len(person[-1])\n",
        "    if len(person[-1])==0:\n",
        "      countOfZeroes+=1\n",
        "    if len(person[-1])==1:\n",
        "      countOfOnes+=1\n",
        "  avg=count/len(listOfPeople)\n",
        "  print(countOfZeroes)\n",
        "  print(avg)\n",
        "  print(countOfOnes)\n",
        "averageLengthofMatches(filtered_people)"
      ]
    },
    {
      "cell_type": "code",
      "execution_count": null,
      "metadata": {
        "id": "RUUt_2rSipHH"
      },
      "outputs": [],
      "source": [
        "def averageDistanceOfMatches(matchList,personList):\n",
        "  for person in matchList:\n",
        "    for match in personsList:\n",
        "      "
      ]
    },
    {
      "cell_type": "code",
      "execution_count": null,
      "metadata": {
        "id": "Yja6tzM1fRn-"
      },
      "outputs": [],
      "source": [
        ""
      ]
    }
  ],
  "metadata": {
    "colab": {
      "collapsed_sections": [],
      "machine_shape": "hm",
      "name": "NewMJIQ.ipynb",
      "provenance": [],
      "include_colab_link": true
    },
    "kernelspec": {
      "display_name": "Python 3",
      "name": "python3"
    }
  },
  "nbformat": 4,
  "nbformat_minor": 0
}